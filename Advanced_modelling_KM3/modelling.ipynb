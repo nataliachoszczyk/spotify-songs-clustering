{
 "cells": [
  {
   "cell_type": "markdown",
   "metadata": {},
   "source": [
    "# TODO\n",
    "- kodowanie cykliczne dla key\n",
    "- K-means\n",
    "- metoda mini batch???\n",
    "- DBSCAN\n",
    "- GMM\n"
   ]
  },
  {
   "cell_type": "markdown",
   "metadata": {},
   "source": [
    "# z GPT"
   ]
  },
  {
   "cell_type": "markdown",
   "metadata": {},
   "source": [
    "Projekt clusteringu do rekomendacji piosenek na danych ze Spotify jest świetnym pomysłem. Wykorzystanie różnych modeli clusteringowych, takich jak K-means, DBSCAN i GMM, to dobry start. Aby uzupełnić analizę, możesz dodać jeszcze kilka innych metod i kroków:\n",
    "\n",
    "## Dodatkowe Metody Clusteringu\n",
    "### Hierarchiczne Clustering (Agglomerative Clustering):\n",
    "\n",
    "Przydatne dla małych i średnich zbiorów danych.\n",
    "Tworzy hierarchię klastrów, co pozwala na wizualizację w formie dendrogramu.\n",
    "### Mean Shift Clustering:\n",
    "\n",
    "Nie wymaga wstępnego określenia liczby klastrów.\n",
    "Dobrze radzi sobie z odkrywaniem klastrów o różnej gęstości.\n",
    "### Spectral Clustering:\n",
    "\n",
    "Może wychwycić bardziej złożone struktury w danych.\n",
    "Szczególnie skuteczne, gdy dane mają nieregularne kształty.\n",
    "## Porównywanie Modeli\n",
    "Aby porównać modele, możesz użyć następujących metod:\n",
    "\n",
    "### Metryki Wewnętrzne:\n",
    "\n",
    "Silhouette Score: Miara zgodności punktów z ich klastrem.\n",
    "Davies-Bouldin Index: Średnia miara \"podobieństwa\" każdego klastra z najbardziej podobnym klastrem.\n",
    "Calinski-Harabasz Index: Stosunek sumy wewnątrzklastrowej a międzyklastrowej.\n",
    "### Metryki Zewnętrzne (jeśli masz etykiety ground truth):\n",
    "\n",
    "Adjusted Rand Index (ARI): Miara podobieństwa między dwoma przypisaniami klastrów.\n",
    "Normalized Mutual Information (NMI): Miara jakości klasteryzacji w odniesieniu do prawdziwych etykiet.\n",
    "## Wizualizacje\n",
    "### Redukcja wymiarowości:\n",
    "\n",
    "PCA (Principal Component Analysis): Do redukcji wymiarowości i wizualizacji danych w 2D/3D.\n",
    "t-SNE (t-Distributed Stochastic Neighbor Embedding): Świetna metoda do wizualizacji w 2D klastrów, zwłaszcza gdy dane mają wiele wymiarów.\n",
    "UMAP (Uniform Manifold Approximation and Projection): Alternatywa dla t-SNE, często lepiej zachowująca globalną strukturę danych.\n",
    "### Wizualizacje przestrzenne:\n",
    "\n",
    "Wykresy rozrzutu (scatter plots): Wykorzystujące PCA, t-SNE lub UMAP do pokazania klastrów w 2D lub 3D.\n",
    "Wizualizacje klastrów na mapie cieplnej (heatmap): Do pokazania podobieństw między klastrami.\n",
    "### Dendrogramy:\n",
    "\n",
    "Wizualizacja hierarchicznego clusteringu do pokazania relacji między klastrami.\n",
    "### Macierz pomyłek (Confusion Matrix):\n",
    "\n",
    "Przydatna, gdy masz etykiety ground truth."
   ]
  }
 ],
 "metadata": {
  "language_info": {
   "name": "python"
  }
 },
 "nbformat": 4,
 "nbformat_minor": 2
}
